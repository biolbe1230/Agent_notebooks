{
 "cells": [
  {
   "cell_type": "markdown",
   "id": "a81bc6ab",
   "metadata": {},
   "source": [
    "## 1 添加API-KEY"
   ]
  },
  {
   "cell_type": "code",
   "execution_count": 1,
   "id": "2413bb90",
   "metadata": {},
   "outputs": [],
   "source": [
    "import getpass\n",
    "import os\n",
    "\n",
    "#sk-1feb7ffcf87f43a2a3feb12cc8349348\n",
    "def _set_env(var: str):\n",
    "    if not os.environ.get(var):\n",
    "        os.environ[var] = getpass.getpass(f\"{var}: \")\n",
    "\n",
    "\n",
    "_set_env(\"DEEPSEEK_API_KEY\")"
   ]
  },
  {
   "cell_type": "markdown",
   "id": "c0785a6d",
   "metadata": {},
   "source": [
    "## 2 基本使用\n",
    "\n",
    "langgraph的agent底层结构是状态机，首先我们定义一个state类。\n",
    "\n",
    "Annotated 是 Python typing 模块中的一个工具，它允许你为一个类型（这里是 list）附加额外的元数据或上下文信息。在 LangGraph 中，这个附加信息（这里是 add_messages 函数）告诉 LangGraph 如何更新这个状态字段。\n",
    "\n",
    "这里的 add_messages 函数，在 Annotated[list, add_messages] 这个类型注解的上下文中，扮演了 “归约函数”(Reducer Function)的角色，或者更准确地说，它定义了当新的数据要更新 messages 这个状态字段时，应该如何进行合并或“归约”操作。**“归约”的含义：它将旧的状态和新的输入“归约”成一个新的状态。**"
   ]
  },
  {
   "cell_type": "code",
   "execution_count": 2,
   "id": "c25d2045",
   "metadata": {},
   "outputs": [],
   "source": [
    "from typing import Annotated\n",
    "\n",
    "from typing_extensions import TypedDict\n",
    "\n",
    "from langgraph.graph import StateGraph, START, END\n",
    "from langgraph.graph.message import add_messages\n",
    "\n",
    "\n",
    "class State(TypedDict):\n",
    "    # Messages have the type \"list\". The `add_messages` function\n",
    "    # in the annotation defines how this state key should be updated\n",
    "    # (in this case, it appends messages to the list, rather than overwriting them)\n",
    "    messages: Annotated[list, add_messages]\n",
    "\n",
    "\n",
    "graph_builder = StateGraph(State)"
   ]
  },
  {
   "cell_type": "code",
   "execution_count": 3,
   "id": "34f5cc94",
   "metadata": {},
   "outputs": [],
   "source": [
    "from langchain.chat_models import init_chat_model\n",
    "\n",
    "llm = init_chat_model(\"deepseek-chat\")\n"
   ]
  },
  {
   "cell_type": "code",
   "execution_count": 4,
   "id": "aca00d5d",
   "metadata": {},
   "outputs": [
    {
     "data": {
      "text/plain": [
       "<langgraph.graph.state.StateGraph at 0x1bcaee16870>"
      ]
     },
     "execution_count": 4,
     "metadata": {},
     "output_type": "execute_result"
    }
   ],
   "source": [
    "def chatbot(state: State):\n",
    "    return {\"messages\": [llm.invoke(state[\"messages\"])]}\n",
    "\n",
    "\n",
    "# The first argument is the unique node name\n",
    "# The second argument is the function or object that will be called whenever\n",
    "# the node is used.\n",
    "graph_builder.add_node(\"chatbot\", chatbot)"
   ]
  },
  {
   "cell_type": "code",
   "execution_count": 5,
   "id": "3777126d",
   "metadata": {},
   "outputs": [
    {
     "data": {
      "text/plain": [
       "<langgraph.graph.state.StateGraph at 0x1bcaee16870>"
      ]
     },
     "execution_count": 5,
     "metadata": {},
     "output_type": "execute_result"
    }
   ],
   "source": [
    "graph_builder.add_edge(START, \"chatbot\")\n",
    "graph_builder.add_edge(\"chatbot\", END)"
   ]
  },
  {
   "cell_type": "code",
   "execution_count": 6,
   "id": "dfb4e54d",
   "metadata": {},
   "outputs": [],
   "source": [
    "graph = graph_builder.compile()"
   ]
  },
  {
   "cell_type": "code",
   "execution_count": 7,
   "id": "41c86670",
   "metadata": {},
   "outputs": [
    {
     "data": {
      "image/png": "[encoded data removed]",
      "text/plain": [
       "<IPython.core.display.Image object>"
      ]
     },
     "metadata": {},
     "output_type": "display_data"
    }
   ],
   "source": [
    "from IPython.display import Image, display\n",
    "\n",
    "try:\n",
    "    display(Image(graph.get_graph().draw_mermaid_png()))\n",
    "except Exception:\n",
    "    # This requires some extra dependencies and is optional\n",
    "    pass"
   ]
  },
  {
   "cell_type": "markdown",
   "id": "7f760b2f",
   "metadata": {},
   "source": [
    "#### graph.stream(...):\n",
    "\n",
    "这个方法通常用于当你希望**实时获取图执行过程中的中间结果**或最终结果的片段时，而不是等待整个图执行完毕才拿到所有输出。`graph.stream() `会返回一个可迭代对象 (iterable) 或者一个生成器 (generator)。当你用 `for...in` 循环遍历它时，每次迭代，它会 yield（产出）一个 **event**。\n",
    "\n",
    "#### 对比invoke\n",
    "`graph.invoke` 会同步执行整个 LangGraph 图，从开始节点一直到遇到 END 状态或图自然结束；调用 invoke() 的那行代码会阻塞。\n",
    "\n",
    "#### event 的内容和结构:\n",
    "\n",
    "event 通常是一个字典，是图在流式执行时，某个（或某些）节点刚刚完成工作后吐出的一份“进展报告”。每个节点return的东西就是event的value。\n",
    "- 这个字典的键 (key) 通常对应于你的 LangGraph 图中节点的名称 (node name)。\n",
    "- 这个字典的值 (value) 是该节点在当前流式更新中产生的输出或状态更新。这个值本身也常常是一个字典，包含了该节点状态的具体内容（比如更新后的 messages 列表）。\n",
    "\n",
    "message取最后一个元素，即assistant最后添加的回复。"
   ]
  },
  {
   "cell_type": "code",
   "execution_count": null,
   "id": "1d475a8f",
   "metadata": {},
   "outputs": [
    {
     "name": "stdout",
     "output_type": "stream",
     "text": [
      "Assistant: 以下是一些健康且多样化的饮食建议，涵盖不同餐点和类型，供你参考：\n",
      "\n",
      "### 🌟 **早餐推荐**\n",
      "1. **中式经典**  \n",
      "   - 杂粮粥（小米/燕麦/红豆）+ 水煮蛋 + 凉拌菠菜  \n",
      "   - 全麦包子（青菜香菇馅）+ 无糖豆浆  \n",
      "2. **西式快捷**  \n",
      "   - 希腊酸奶 + 蓝莓/坚果 + 全麦吐司  \n",
      "   - 牛油果鸡蛋三明治 + 黑咖啡  \n",
      "\n",
      "### � **午餐搭配**\n",
      "- **蛋白质为主**：清蒸鱼/鸡胸肉 + 糙米饭 + 西兰花  \n",
      "- **素食选择**：豆腐炒时蔬（青椒、胡萝卜）+ 紫薯  \n",
      "- **快手面食**：荞麦面（配番茄鸡蛋/虾仁黄瓜）  \n",
      "\n",
      "### 🍜 **晚餐建议**\n",
      "- 轻食：南瓜汤 + 香煎三文鱼 + 芦笋  \n",
      "- 暖胃：菌菇鸡汤（少油） + 蒸山药  \n",
      "- 低卡：韩式拌杂菜（粉丝、菠菜、胡萝卜）  \n",
      "\n",
      "### � **加餐/零食**\n",
      "- 坚果一小把（杏仁、核桃）  \n",
      "- 水果：苹果、奇异果、小番茄  \n",
      "- 无糖酸奶/一小块黑巧克力（85%以上可可）  \n",
      "\n",
      "### 🍲 **特殊需求**\n",
      "- **减脂期**：增加膳食纤维（如奇亚籽燕麦碗），减少精制碳水。  \n",
      "- **增肌**：蛋白摄入加倍（鸡胸肉、牛肉、蛋白粉）。  \n",
      "- **快手菜**：番茄龙利鱼煲、电饭煲焖饭（杂粮+腊肠+蔬菜）。  \n",
      "\n",
      "### ❤️ **小贴士**\n",
      "- 根据自身需求调整份量，少油少盐更健康。  \n",
      "- 外卖可选：沙县小吃（鸡腿饭+青菜）、日式定食（刺身+味噌汤）。  \n",
      "\n",
      "需要更具体的推荐（如地方菜、减肥食谱等），可以告诉我你的偏好哦！\n",
      "Assistant: 肯德基！今晚可以试试吮指原味鸡或热辣香骨鸡，搭配土豆泥和玉米棒，经典又满足～ 🍗✨\n",
      "Assistant: 选择肯德基（KFC）还是麦当劳（McDonald's）主要取决于你的口味偏好和需求。以下是两者的对比，供你参考：\n",
      "\n",
      "---\n",
      "\n",
      "### **1. 核心特色**\n",
      "- **肯德基（KFC）**  \n",
      "  - **主打产品**：炸鸡（原味鸡、脆皮鸡等）、鸡肉汉堡、蛋挞。  \n",
      "  - **优势**：炸鸡外酥里嫩，口味更偏向传统美式或中式改良（如香辣系列）；蛋挞是经典甜品。  \n",
      "  - **适合场景**：喜欢炸鸡、追求酥脆口感或想尝试中式风味（如老北京鸡肉卷）。\n",
      "\n",
      "- **麦当劳（McDonald's）**  \n",
      "  - **主打产品**：牛肉汉堡（巨无霸、双层吉士）、麦辣鸡腿堡、薯条、麦旋风。  \n",
      "  - **优势**：标准化出品稳定，牛肉汉堡更经典；薯条口碑好；甜品选择多（如奥利奥麦旋风）。  \n",
      "  - **适合场景**：偏好牛肉汉堡、快速便捷的套餐，或儿童餐（玩具赠品）。\n",
      "\n",
      "---\n",
      "\n",
      "### **2. 本土化程度**\n",
      "- **肯德基**：在中国本土化更彻底，有粥、油条、米饭等中式早餐/正餐选择。  \n",
      "- **麦当劳**：近年也推出本土化产品（如麦辣鸡腿堡、桂林酸笋风味汉堡），但整体更“国际化”。\n",
      "\n",
      "---\n",
      "\n",
      "### **3. 价格与优惠**\n",
      "- 两者价格相近，但具体优惠因地区和活动而异。  \n",
      "  - 肯德基常有“疯狂星期四”促销（国内梗文化出圈）。  \n",
      "  - 麦当劳的“1+1随心配”性价比高，会员活动频繁。\n",
      "\n",
      "---\n",
      "\n",
      "### **4. 其他因素**\n",
      "- **健康选项**：麦当劳的沙拉、鲜蔬杯更多；肯德基相对油炸食品占比更高。  \n",
      "- **咖啡**：麦当劳的麦咖啡（拿铁、美式）口碑优于肯德基的K Coffee。  \n",
      "- **门店风格**：肯德基部分门店更偏向家庭聚餐，麦当劳更年轻化。\n",
      "\n",
      "---\n",
      "\n",
      "### **总结建议**\n",
      "- **选肯德基**：如果你更爱炸鸡、蛋挞，或想尝试中西结合的快餐。  \n",
      "- **选麦当劳**：如果偏爱牛肉汉堡、薯条，或需要快速稳定的标准化套餐。  \n",
      "\n",
      "当然，也可以根据当天心情换着吃！你更看重哪方面的体验？我可以帮你进一步分析～ 😊\n",
      "User: What do you know about LangGraph?\n"
     ]
    }
   ],
   "source": [
    "def stream_graph_updates(user_input: str):\n",
    "    for event in graph.stream({\"messages\": [{\"role\": \"user\", \"content\": user_input}]}):\n",
    "        for value in event.values():\n",
    "            print(\"Assistant:\", value[\"messages\"][-1].content)\n",
    "\n",
    "\n",
    "while True:\n",
    "    try:\n",
    "        user_input = input(\"User: \")\n",
    "        if user_input.lower() in [\"quit\", \"exit\", \"q\"]:\n",
    "            print(\"Goodbye!\")\n",
    "            break\n",
    "        stream_graph_updates(user_input)\n",
    "    except:\n",
    "        # fallback if input() is not available\n",
    "        user_input = \"What do you know about LangGraph?\"\n",
    "        print(\"User: \" + user_input)\n",
    "        stream_graph_updates(user_input)\n",
    "        break"
   ]
  },
  {
   "cell_type": "markdown",
   "id": "722e1054",
   "metadata": {},
   "source": [
    "更好地理解event，举个例子，如下定义：\n",
    "```python\n",
    "class MyState(TypedDict):\n",
    "    messages: Annotated[list, add_messages]\n",
    "    timestamp: str\n",
    "    some_other_data: int\n",
    "\n",
    "# 一个节点的例子\n",
    "def my_node_A(state: MyState) -> dict:\n",
    "    # ...做一些处理...\n",
    "    new_message = {\"role\": \"user\", \"content\": \"hello\"}\n",
    "    return {\"messages\": [new_message]} # Node A 只想更新 messages\n",
    "\n",
    "def my_node_B(state: MyState) -> dict:\n",
    "    # ...做一些处理...\n",
    "    current_time = \"2025-05-08T10:00:00Z\"\n",
    "    return {\"timestamp\": current_time, \"some_other_data\": 123} # Node B 想更新 timestamp 和 some_other_data\n",
    "```\n",
    "\n",
    "当 my_node_A 执行并通过 graph.stream() 产生事件时，event 可能看起来像：\n",
    "```python\n",
    "event_from_A = {\n",
    "    \"my_node_A\": { # 键是节点名\n",
    "        \"messages\": [{\"role\": \"user\", \"content\": \"hello\"}] # 值是节点A的返回\n",
    "    }\n",
    "}\n",
    "```\n",
    "\n",
    "当 my_node_B 执行时，event 可能看起来像：\n",
    "```python\n",
    "event_from_B = {\n",
    "    \"my_node_B\": {\n",
    "        \"timestamp\": \"2025-05-08T10:00:00Z\",\n",
    "        \"some_other_data\": 123\n",
    "    }\n",
    "}\n",
    "```"
   ]
  }
 ],
 "metadata": {
  "kernelspec": {
   "display_name": "lang",
   "language": "python",
   "name": "python3"
  },
  "language_info": {
   "codemirror_mode": {
    "name": "ipython",
    "version": 3
   },
   "file_extension": ".py",
   "mimetype": "text/x-python",
   "name": "python",
   "nbconvert_exporter": "python",
   "pygments_lexer": "ipython3",
   "version": "3.12.10"
  }
 },
 "nbformat": 4,
 "nbformat_minor": 5
}
