{
 "cells": [
  {
   "cell_type": "code",
   "execution_count": null,
   "id": "70f4d412",
   "metadata": {},
   "outputs": [],
   "source": [
    "from typing import Annotated\n",
    "\n",
    "from langchain.chat_models import init_chat_model\n",
    "from langchain_tavily import TavilySearch\n",
    "from langchain_core.messages import BaseMessage\n",
    "from typing_extensions import TypedDict\n",
    "\n",
    "from langgraph.graph import StateGraph\n",
    "from langgraph.prebuilt import ToolNode, tools_condition\n",
    "import getpass\n",
    "import os\n",
    "\n",
    "\n",
    "def _set_env(var: str):\n",
    "    if not os.environ.get(var):\n",
    "        os.environ[var] = getpass.getpass(f\"{var}: \")\n",
    "# sk-1feb7ffcf87f43a2a3feb12cc8349348\n",
    "_set_env(\"DEEPSEEK_API_KEY\")\n",
    "\n",
    "# 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\n",
    "_set_env(\"TAVILY_API_KEY\")\n"
   ]
  },
  {
   "cell_type": "code",
   "execution_count": 20,
   "id": "d0881263",
   "metadata": {},
   "outputs": [],
   "source": [
    "from langgraph.graph import StateGraph, START, END\n",
    "from langgraph.graph.message import add_messages\n",
    "class State(TypedDict):\n",
    "    messages: Annotated[list, add_messages]"
   ]
  },
  {
   "cell_type": "code",
   "execution_count": 7,
   "id": "02539eba",
   "metadata": {},
   "outputs": [],
   "source": [
    "graph_builder = StateGraph(State)"
   ]
  },
  {
   "cell_type": "code",
   "execution_count": 10,
   "id": "5776c25e",
   "metadata": {},
   "outputs": [
    {
     "data": {
      "text/plain": [
       "{'query': \"What's a 'node' in LangGraph?\",\n",
       " 'follow_up_questions': None,\n",
       " 'answer': None,\n",
       " 'images': [],\n",
       " 'results': [{'title': \"Introduction to LangGraph: A Beginner's Guide - Medium\",\n",
       "   'url': 'https://medium.com/@cplog/introduction-to-langgraph-a-beginners-guide-14f9be027141',\n",
       "   'content': 'Stateful Graph: LangGraph revolves around the concept of a stateful graph, where each node in the graph represents a step in your computation, and the graph maintains a state that is passed around and updated as the computation progresses. LangGraph supports conditional edges, allowing you to dynamically determine the next node to execute based on the current state of the graph. We define nodes for classifying the input, handling greetings, and handling search queries. def classify_input_node(state): LangGraph is a versatile tool for building complex, stateful applications with LLMs. By understanding its core concepts and working through simple examples, beginners can start to leverage its power for their projects. Remember to pay attention to state management, conditional edges, and ensuring there are no dead-end nodes in your graph.',\n",
       "   'score': 0.7065353,\n",
       "   'raw_content': None},\n",
       "  {'title': 'LangGraph Tutorial: What Is LangGraph and How to Use It?',\n",
       "   'url': 'https://www.datacamp.com/tutorial/langgraph-tutorial',\n",
       "   'content': 'LangGraph is a library within the LangChain ecosystem that provides a framework for defining, coordinating, and executing multiple LLM agents (or chains) in a structured and efficient manner. By managing the flow of data and the sequence of operations, LangGraph allows developers to focus on the high-level logic of their applications rather than the intricacies of agent coordination. Whether you need a chatbot that can handle various types of user requests or a multi-agent system that performs complex tasks, LangGraph provides the tools to build exactly what you need. LangGraph significantly simplifies the development of complex LLM applications by providing a structured framework for managing state and coordinating agent interactions.',\n",
       "   'score': 0.5008063,\n",
       "   'raw_content': None}],\n",
       " 'response_time': 2.03}"
      ]
     },
     "execution_count": 10,
     "metadata": {},
     "output_type": "execute_result"
    }
   ],
   "source": [
    "tool = TavilySearch(max_results=2)\n",
    "tools = [tool]\n",
    "tool.invoke(\"What's a 'node' in LangGraph?\")"
   ]
  },
  {
   "cell_type": "markdown",
   "id": "243360f4",
   "metadata": {},
   "source": [
    "定义一个tool的列表，给llm。"
   ]
  },
  {
   "cell_type": "code",
   "execution_count": 9,
   "id": "415dff1b",
   "metadata": {},
   "outputs": [],
   "source": [
    "llm = init_chat_model(\"deepseek-chat\")\n",
    "llm_with_tools = llm.bind_tools(tools)"
   ]
  },
  {
   "cell_type": "code",
   "execution_count": 15,
   "id": "9f146414",
   "metadata": {},
   "outputs": [],
   "source": [
    "def chatbot(state: State):\n",
    "    return {\"messages\": [llm_with_tools.invoke(state[\"messages\"])]}"
   ]
  },
  {
   "cell_type": "code",
   "execution_count": 16,
   "id": "43852f7c",
   "metadata": {},
   "outputs": [
    {
     "data": {
      "text/plain": [
       "<langgraph.graph.state.StateGraph at 0x1fee977cbc0>"
      ]
     },
     "execution_count": 16,
     "metadata": {},
     "output_type": "execute_result"
    }
   ],
   "source": [
    "graph_builder.add_node(\"chatbot\", chatbot)"
   ]
  },
  {
   "cell_type": "markdown",
   "id": "97ef0f2b",
   "metadata": {},
   "source": [
    "检查状态中的最新消息，并在消息包含 tool_calls 时调用 tools。"
   ]
  },
  {
   "cell_type": "code",
   "execution_count": 11,
   "id": "da65d458",
   "metadata": {},
   "outputs": [
    {
     "data": {
      "text/plain": [
       "<langgraph.graph.state.StateGraph at 0x1fee977cbc0>"
      ]
     },
     "execution_count": 11,
     "metadata": {},
     "output_type": "execute_result"
    }
   ],
   "source": [
    "import json\n",
    "\n",
    "from langchain_core.messages import ToolMessage\n",
    "\n",
    "\n",
    "class BasicToolNode:\n",
    "    \"\"\"A node that runs the tools requested in the last AIMessage.\"\"\"\n",
    "\n",
    "    def __init__(self, tools: list) -> None:\n",
    "        self.tools_by_name = {tool.name: tool for tool in tools}\n",
    "\n",
    "    def __call__(self, inputs: dict):\n",
    "        if messages := inputs.get(\"messages\", []):\n",
    "            message = messages[-1]\n",
    "        else:\n",
    "            raise ValueError(\"No message found in input\")\n",
    "        outputs = []\n",
    "        for tool_call in message.tool_calls:\n",
    "            tool_result = self.tools_by_name[tool_call[\"name\"]].invoke(\n",
    "                tool_call[\"args\"]\n",
    "            )\n",
    "            outputs.append(\n",
    "                ToolMessage(\n",
    "                    content=json.dumps(tool_result),\n",
    "                    name=tool_call[\"name\"],\n",
    "                    tool_call_id=tool_call[\"id\"],\n",
    "                )\n",
    "            )\n",
    "        return {\"messages\": outputs}\n",
    "\n",
    "\n",
    "tool_node = BasicToolNode(tools=[tool])\n",
    "graph_builder.add_node(\"tools\", tool_node)"
   ]
  },
  {
   "cell_type": "markdown",
   "id": "bb17536f",
   "metadata": {},
   "source": [
    "#### 路由\n",
    "构建一个能够根据 AI（在这里是 chatbot 节点）的输出决定下一步是调用工具（tools 节点）还是直接结束（END）的条件路由。\n",
    "\n",
    "#### 添加状态机条件\n",
    "使用`add_conditional_edges`将条件函数(route_tools)返回的字符串（如 \"tools\" 或 END）映射到图中实际的节点名称或特殊的终止符 END。\n",
    "\n",
    "前者是节点名，后者是条件函数返回的值，也可以写如`\"tools\": \"my_tools\"`"
   ]
  },
  {
   "cell_type": "code",
   "execution_count": 21,
   "id": "ca08f3b3",
   "metadata": {},
   "outputs": [],
   "source": [
    "def route_tools(\n",
    "    state: State,\n",
    "):\n",
    "    \"\"\"\n",
    "    Use in the conditional_edge to route to the ToolNode if the last message\n",
    "    has tool calls. Otherwise, route to the end.\n",
    "    \"\"\"\n",
    "    if isinstance(state, list):\n",
    "        ai_message = state[-1]\n",
    "    elif messages := state.get(\"messages\", []):\n",
    "        ai_message = messages[-1]\n",
    "    else:\n",
    "        raise ValueError(f\"No messages found in input state to tool_edge: {state}\")\n",
    "    if hasattr(ai_message, \"tool_calls\") and len(ai_message.tool_calls) > 0:\n",
    "        return \"tools\"\n",
    "    return END\n",
    "\n",
    "\n",
    "# The `tools_condition` function returns \"tools\" if the chatbot asks to use a tool, and \"END\" if\n",
    "# it is fine directly responding. This conditional routing defines the main agent loop.\n",
    "graph_builder.add_conditional_edges(\n",
    "    \"chatbot\",\n",
    "    route_tools,\n",
    "    # The following dictionary lets you tell the graph to interpret the condition's outputs as a specific node\n",
    "    # It defaults to the identity function, but if you\n",
    "    # want to use a node named something else apart from \"tools\",\n",
    "    # You can update the value of the dictionary to something else\n",
    "    # e.g., \"tools\": \"my_tools\"\n",
    "    {\"tools\": \"tools\", END: END},\n",
    ")\n",
    "# Any time a tool is called, we return to the chatbot to decide the next step\n",
    "graph_builder.add_edge(\"tools\", \"chatbot\")\n",
    "graph_builder.add_edge(START, \"chatbot\")\n",
    "graph = graph_builder.compile()"
   ]
  },
  {
   "cell_type": "code",
   "execution_count": 22,
   "id": "48664491",
   "metadata": {},
   "outputs": [
    {
     "data": {
      "image/png": "[encoded data removed]",
      "text/plain": [
       "<IPython.core.display.Image object>"
      ]
     },
     "metadata": {},
     "output_type": "display_data"
    }
   ],
   "source": [
    "from IPython.display import Image, display\n",
    "\n",
    "try:\n",
    "    display(Image(graph.get_graph().draw_mermaid_png()))\n",
    "except Exception:\n",
    "    # This requires some extra dependencies and is optional\n",
    "    pass"
   ]
  },
  {
   "cell_type": "code",
   "execution_count": 24,
   "id": "64ac5f11",
   "metadata": {},
   "outputs": [
    {
     "name": "stdout",
     "output_type": "stream",
     "text": [
      "Assistant: \n",
      "Assistant: {\"query\": \"LPL\\u8054\\u8d5b\\u51fb\\u6740\\u738b\", \"follow_up_questions\": null, \"answer\": null, \"images\": [], \"results\": [{\"url\": \"https://news.qq.com/rain/a/20220818A05LLJ00\", \"title\": \"LPL\\u5404\\u8d5b\\u5b63\\u51fb\\u6740\\u738b\\uff0c\\u521a\\u5b50\\u7684\\u8bb0\\u5f55\\u4fdd\\u6301\\u5230\\u73b0\\u5728-\\u817e\\u8baf\\u65b0\\u95fb - QQ News\", \"content\": \"LPL\\u5404\\u4e2a\\u8d5b\\u5b63\\u7684\\u51fb\\u6740\\u738b\\uff0c\\u5927\\u591a\\u6570\\u90fd\\u662f\\u961f\\u4f0d\\u91cc\\u7684AD\\u6216\\u8005\\u4e2d\\u5355\\uff1a2013\\u5e74\\u6625\\u5b63\\u8d5b\\u51fb\\u6740\\u738b\\uff1aUZI\\uff0c\\u51fb\\u6740\\u6570\\uff1a182\\uff1b2013\\u5e74\\u590f\\u5b63\\u8d5b\\u51fb\\u6740\\u738b\\uff1aSan\\uff0c\\u51fb\\u6740\\u6570\\uff1a148\\uff1b2014\\u5e74\\u6625\\u5b63\\u8d5b\\u51fb\\u6740\", \"score\": 0.7978881, \"raw_content\": null}, {\"url\": \"https://m.hupu.com/bbs/628120595\", \"title\": \"\\u5386\\u5c4a\\u5168\\u7403\\u603b\\u51b3\\u8d5b\\u51fb\\u6740\\u738b\\uff1aLPL\\u9009\\u624b - \\u864e\\u6251\", \"content\": \"\\u864e\\u625109\\u670825\\u65e5\\u8bafLPL\\u5b98\\u65b9\\u53d1\\u5e03\\u5386\\u5c4a\\u5168\\u7403\\u603b\\u51b3\\u8d5b\\u51fb\\u6740\\u738b\\uff0c\\u8be6\\u7ec6\\u699c\\u5355\\u5982\\u4e0b\\uff1a. 2011\\uff1aShushei 69. 2012\\uff1aBebe 50. 2013\\uff1aPiglet 115. 2014\\uff1aUzi 112. 2015\\uff1aBang 83.\", \"score\": 0.7471924, \"raw_content\": null}], \"response_time\": 2.81}\n",
      "Assistant: 根据搜索结果，LPL联赛的击杀王在不同赛季有所不同。以下是一些赛季的击杀王：\n",
      "\n",
      "- **2013年春季赛**：UZI，击杀数：182\n",
      "- **2013年夏季赛**：San，击杀数：148\n",
      "- **2014年春季赛**：UZI，击杀数：112\n",
      "- **2015年**：Bang，击杀数：83\n",
      "\n",
      "如果需要更详细或最新的击杀王信息，可以提供具体的赛季或年份。\n",
      "Assistant: Hello! How can I assist you today?\n",
      "Assistant: Hello! How can I assist you today?\n",
      "User: What do you know about LangGraph?\n",
      "Assistant: \n",
      "Assistant: {\"query\": \"LangGraph\", \"follow_up_questions\": null, \"answer\": null, \"images\": [], \"results\": [{\"url\": \"https://langchain-ai.github.io/langgraph/tutorials/introduction/\", \"title\": \"LangGraph Quickstart - Tutorials\", \"content\": \"[](https://langchain-ai.github.io/langgraph/tutorials/introduction/#__codelineno-9-1)Assistant: LangGraph is a library designed to help build stateful multi-agent applications using language models. It provides tools for creating workflows and state machines to coordinate multiple AI agents or language model interactions. LangGraph is built on top of LangChain, leveraging its components while adding graph-based coordination capabilities. It's particularly useful for developing more complex, [...] [](https://langchain-ai.github.io/langgraph/tutorials/introduction/#__codelineno-21-6)   LangGraph is a library designed for building stateful, multi-actor applications with Large Language Models (LLMs). It's particularly useful for creating agent and multi-agent workflows.\\n[](https://langchain-ai.github.io/langgraph/tutorials/introduction/#__codelineno-21-7)\\n[](https://langchain-ai.github.io/langgraph/tutorials/introduction/#__codelineno-21-8)2. Developer: [...] [](https://langchain-ai.github.io/langgraph/tutorials/introduction/#__codelineno-48-19)LangGraph is likely a framework or library designed specifically for creating AI agents with advanced capabilities. Here are a few points to consider based on this recommendation:\\n[](https://langchain-ai.github.io/langgraph/tutorials/introduction/#__codelineno-48-20)\", \"score\": 0.9311691, \"raw_content\": null}, {\"url\": \"https://github.com/langchain-ai/langgraph\", \"title\": \"langchain-ai/langgraph: Build resilient language agents as graphs.\", \"content\": \"LangGraph \\u2014 used by Replit, Uber, LinkedIn, GitLab and more \\u2014 is a low-level orchestration framework for building controllable agents. While langchain provides integrations and composable components to streamline LLM application development, the LangGraph library enables agent orchestration \\u2014 offering customizable architectures, long-term memory, and human-in-the-loop to reliably handle complex tasks.\\n\\n```\\npip install -U langgraph\\n```\", \"score\": 0.8884594, \"raw_content\": null}], \"response_time\": 1.73}\n",
      "Assistant: LangGraph is a library designed for building stateful, multi-agent applications using language models. It provides tools for creating workflows and state machines to coordinate interactions between multiple AI agents. Here are some key points about LangGraph:\n",
      "\n",
      "1. **Purpose**: It is particularly useful for developing complex, multi-agent workflows where coordination and state management are required.\n",
      "2. **Built on LangChain**: LangGraph leverages components from LangChain but adds graph-based coordination capabilities.\n",
      "3. **Features**:\n",
      "   - Enables the creation of resilient and controllable agents.\n",
      "   - Supports customizable architectures, long-term memory, and human-in-the-loop interactions.\n",
      "   - Ideal for handling complex tasks that require advanced orchestration.\n",
      "4. **Adoption**: It is used by companies like Replit, Uber, LinkedIn, and GitLab for building AI agents.\n",
      "\n",
      "You can install LangGraph using:\n",
      "```bash\n",
      "pip install -U langgraph\n",
      "```\n",
      "\n",
      "For more details, you can explore the [LangGraph GitHub repository](https://github.com/langchain-ai/langgraph) or the [LangGraph Quickstart Tutorial](https://langchain-ai.github.io/langgraph/tutorials/introduction/). Let me know if you'd like further information!\n"
     ]
    }
   ],
   "source": [
    "def stream_graph_updates(user_input: str):\n",
    "    for event in graph.stream({\"messages\": [{\"role\": \"user\", \"content\": user_input}]}):\n",
    "        for value in event.values():\n",
    "            print(\"Assistant:\", value[\"messages\"][-1].content)\n",
    "while True:\n",
    "    try:\n",
    "        user_input = input(\"User: \")\n",
    "        if user_input.lower() in [\"quit\", \"exit\", \"q\"]:\n",
    "            print(\"Goodbye!\")\n",
    "            break\n",
    "\n",
    "        stream_graph_updates(user_input)\n",
    "    except:\n",
    "        # fallback if input() is not available\n",
    "        user_input = \"What do you know about LangGraph?\"\n",
    "        print(\"User: \" + user_input)\n",
    "        stream_graph_updates(user_input)\n",
    "        break"
   ]
  }
 ],
 "metadata": {
  "kernelspec": {
   "display_name": "lang",
   "language": "python",
   "name": "python3"
  },
  "language_info": {
   "codemirror_mode": {
    "name": "ipython",
    "version": 3
   },
   "file_extension": ".py",
   "mimetype": "text/x-python",
   "name": "python",
   "nbconvert_exporter": "python",
   "pygments_lexer": "ipython3",
   "version": "3.12.10"
  }
 },
 "nbformat": 4,
 "nbformat_minor": 5
}
